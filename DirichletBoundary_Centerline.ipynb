{
 "cells": [
  {
   "cell_type": "markdown",
   "metadata": {},
   "source": [
    "This notebook uses patient 1 artery centerlines and Gjerge Splitting paper technique.\n",
    "Copied from VesselSingularity"
   ]
  },
  {
   "cell_type": "markdown",
   "metadata": {},
   "source": [
    "## Import packages"
   ]
  },
  {
   "cell_type": "code",
   "execution_count": null,
   "metadata": {},
   "outputs": [],
   "source": [
    "import numpy as np \n",
    "from fenics import * \n",
    "from dolfin import * \n",
    "from mpi4py import MPI\n",
    "from numpy import linalg as la"
   ]
  },
  {
   "cell_type": "code",
   "execution_count": null,
   "metadata": {},
   "outputs": [],
   "source": [
    "#imports for distance calculation\n",
    "from numpy import array\n",
    "from numpy.linalg import norm\n",
    "from numpy import dot"
   ]
  },
  {
   "cell_type": "code",
   "execution_count": null,
   "metadata": {},
   "outputs": [],
   "source": [
    "#import for json files\n",
    "import vtk\n",
    "from vtk.util import numpy_support as VN\n",
    "import json\n",
    "import pandas as pd"
   ]
  },
  {
   "cell_type": "code",
   "execution_count": null,
   "metadata": {},
   "outputs": [],
   "source": [
    "import os\n",
    "import time"
   ]
  },
  {
   "cell_type": "markdown",
   "metadata": {},
   "source": [
    "## Create Mesh that extends the whole length of the artery of patient 1"
   ]
  },
  {
   "cell_type": "code",
   "execution_count": null,
   "metadata": {},
   "outputs": [],
   "source": [
    "mesh_liver = BoxMesh(Point(105.339, 106.092, -10), Point(231.518, 180.395, 213), 30, 30, 30)\n",
    "\n",
    "#Bounds: \n",
    "    #x: 105.339 to 231.518\n",
    "    #y: 06.092 to 180.395\n",
    "    #z: 0.915998 to 202.829"
   ]
  },
  {
   "cell_type": "markdown",
   "metadata": {},
   "source": [
    "## Define distance to point x from a line formed by point a and b "
   ]
  },
  {
   "cell_type": "code",
   "execution_count": null,
   "metadata": {},
   "outputs": [],
   "source": [
    "def distance(x, a, b):\n",
    "    d = np.subtract(b, a)/norm(np.subtract(b,a))\n",
    "    v = Expression(('x[0]-a0', 'x[1]-a1', 'x[2]-a2'), degree=1, a0=a[0], a1=a[1], a2=a[2])\n",
    "    t = Expression('v[0]*d0+v[1]*d1+v[2]*d2', degree=1, v=v, d0=d[0], d1=d[1], d2=d[2])\n",
    "    p = Expression(('a0+t*d0', 'a1+t*d1', 'a2+t*d2'), degree=1, a0=a[0], a1=a[1], a2=a[2], d0=d[0], d1=d[1], d2=d[2], t=t)\n",
    "    rad = Expression('sqrt(pow((p[0]-x[0]), 2) + pow((p[1]-x[1]), 2) + pow((p[2]-x[2]), 2))', degree=1, p=p)\n",
    "    return rad"
   ]
  },
  {
   "cell_type": "markdown",
   "metadata": {},
   "source": [
    "## Writing a new function for equation 5.13 and 5.14 "
   ]
  },
  {
   "cell_type": "code",
   "execution_count": null,
   "metadata": {},
   "outputs": [],
   "source": [
    "def branch_vessel(mesh, folder, name_corr, name_all):\n",
    "    st = time.time() \n",
    "    \n",
    "    #Define Function Space\n",
    "    V = FunctionSpace(mesh, \"CG\", 1)\n",
    "    \n",
    "    # Define Helper functions \n",
    "    x = SpatialCoordinate(mesh)\n",
    "    w_all = Function(V)\n",
    "    u_all = Function(V)\n",
    "    \n",
    "    #read in the radius vzlues \n",
    "    radius_data=pd.read_csv(folder + 'radius.tsv', sep='\\t')\n",
    "    DIR = folder + \"centerlines/\"\n",
    "    line_count = len([name for name in os.listdir(DIR) if os.path.isfile(os.path.join(DIR, name))])\n",
    "    \n",
    "    #calculate points_all\n",
    "    point_sets = 0\n",
    "    for i in range(line_count):\n",
    "        f = open(DIR + 'Centerline_' + str(i) + '.mrk.json', \"r\")\n",
    "        data = json.loads(f.read())\n",
    "        points = [y['position'] for y in np.concatenate([x['controlPoints'] for x in data['markups']]).flat]        \n",
    "        \n",
    "        point_sets += (len(points)-1)\n",
    "        print(str(point_sets) + \" is the number of total points after centerline \"  + str(i))\n",
    "    \n",
    "    #run for each branch\n",
    "    for i in range(line_count):\n",
    "        \n",
    "        # load in the file for each branch\n",
    "        print(\"centerline \" + str(i))\n",
    "        f = open(DIR + 'Centerline_' + str(i) + '.mrk.json', \"r\")\n",
    "        data = json.loads(f.read())\n",
    "        points = [y['position'] for y in np.concatenate([x['controlPoints'] for x in data['markups']]).flat]\n",
    "        \n",
    "        # load in radius for each \n",
    "        E = radius_data['Radius'][i]\n",
    "    \n",
    "        for j in range(len(points)-1): #iterate over each point to get E*G\n",
    "                            \n",
    "            # starting and ending point for each straight line in branch\n",
    "            a = points[j]\n",
    "            b = points[j+1]\n",
    "            \n",
    "            # coefficients for G calculation\n",
    "            diff = np.subtract(b, a)\n",
    "            L = norm(diff)\n",
    "            tau = diff/L\n",
    "            tol = 1E-14\n",
    "\n",
    "            # Define radius -- the project of point onto line \n",
    "            rad = distance(x, a, b)\n",
    "\n",
    "            #Define G variable ln(r)\n",
    "            rb = Expression('sqrt( pow(x[0]-b0,2) + pow(x[1]-b1,2) + pow(x[2]-b2,2))', degree=1, b0=b[0], b1=b[1], b2=b[2])\n",
    "            ra = Expression('sqrt( pow(x[0]-a0,2) + pow(x[1]-a1,2) + pow(x[2]-a2,2))', degree=1, a0=a[0], a1=a[1], a2=a[2])\n",
    "            tauax = Expression('tau0*(a0-x[0]) + tau1*(a1-x[1]) + tau2*(a2-x[2])', degree=1,  tau0=tau[0], a0=a[0], tau1=tau[1], a1=a[1], tau2=tau[2], a2=a[2])\n",
    "            G = Expression('std::log((rb + L + tauax)/(ra + tauax + eps))', degree=0, rb=rb, ra=ra, L=L, a2=a[2], tauax=tauax, eps=epsval)\n",
    "            dG = Expression(('(((x[0]-b0)/rb)-tau0)/(rb + L + tauax + eps) - ((((x[0]-a0)/ra)-tau0)/(ra + tauax + eps))', '(((x[1]-b1)/rb)-tau1)/(rb + L + tauax + eps) - ((((x[1]-a1)/ra)-tau1)/(ra + tauax + eps))', '(((x[2]-b2)/rb)-tau2)/(rb + L + tauax + eps) - ((((x[2]-a2)/ra)-tau2)/(ra + tauax + eps))'), degree=1, rb=rb, ra=ra, L=L, a0=a[0], b0=b[0], a1=a[1], b1=b[1], a2=a[2], b2=b[2], tauax=tauax, tau0=tau[0], tau1=tau[1], tau2=tau[2], eps=epsval) \n",
    "\n",
    "            #EfG = Expression('E*G+EG_total', degree=1, E=E, G=G, EG_total=EfG)\n",
    "            \n",
    "            # Define boundary condition \n",
    "            uD = Constant(1.0)\n",
    "            wD = Expression('4*pi*(1/point_sets)*uD - E*G', degree=1, E=E, G=G, uD=uD, point_sets=point_sets)\n",
    "\n",
    "            def boundary(x, on_boundary):\n",
    "                return on_boundary\n",
    "\n",
    "            bc = DirichletBC(V, wD, boundary)\n",
    "\n",
    "            # Define variational problem\n",
    "            wh = TrialFunction(V)\n",
    "            v = TestFunction(V)\n",
    "            f = Constant(0.0)\n",
    "            a = dot(grad(wh), grad(v))*dx\n",
    "            L = f*v*dx\n",
    "\n",
    "            wh = Function(V)\n",
    "            solve(a == L, wh, bc)\n",
    "\n",
    "            w_h = interpolate(wh, V)\n",
    "            w_all.vector()[:] += w_h.vector()[:]\n",
    "            \n",
    "            u = Expression('E*G', degree=1, E=E, G=G)\n",
    "            u_h = interpolate(u, V)\n",
    "            u_all.vector()[:] += u_h.vector()[:]\n",
    "        \n",
    "    # save the correction term    \n",
    "    et = time.time()\n",
    "    lapsed_time = et-st\n",
    "    print(str(lapsed_time))\n",
    "    \n",
    "    print(\"wh is presaved\")\n",
    "    vtkfile = File(name_cor)\n",
    "    print(\"wh is saved\")\n",
    "    vtkfile << w_all\n",
    "    save_w = time.time()\n",
    "    print(\"saved w after \" + str(save_w-et))\n",
    "    \n",
    "    u_h = Expression('((1.0)/(4*pi))*(u_all + w_all)', degree=1, u_all=u_all, w_all=w_all)\n",
    "    u_all = interpolate(u_h, V)\n",
    "    created_u_time = time.time()\n",
    "\n",
    "    # save the total u term\n",
    "    print(\"uh is presaved\")\n",
    "    vtkfile = File(name_all)\n",
    "    print(\"uh is saved\")\n",
    "    vtkfile << u_all\n",
    "    \n",
    "    save_u = time.time()\n",
    "    print(\"saved u after \" + str(save_u - created_u_time))\n",
    "\n"
   ]
  },
  {
   "cell_type": "markdown",
   "metadata": {},
   "source": [
    "## Import JSON Files and run FEM"
   ]
  },
  {
   "cell_type": "markdown",
   "metadata": {},
   "source": [
    "Centerlines are created from the given starting and ending point. The json files are for each individual branch with the branches ending point being equal to the starting point of the next branch"
   ]
  },
  {
   "cell_type": "markdown",
   "metadata": {},
   "source": [
    "mesh = the mesh that encapsulates the whole liver \n",
    "\n",
    "folder = where the centerline information is held, specifically the radius \n",
    "\n",
    "name_cor = location of the output of the correction term\n",
    "\n",
    "name_all = location of the output of the full term "
   ]
  },
  {
   "cell_type": "code",
   "execution_count": null,
   "metadata": {},
   "outputs": [],
   "source": [
    "mesh = mesh_liver\n",
    "folder = \"/Users/bilyana/Documents/vessel_segmentation/ircad_data/patient_1/all_branches/\"\n",
    "name_cor = folder + \"test.pvd\"\n",
    "name_all = folder + \"test.pvd\"\n",
    "amount = 1\n",
    "\n",
    "branch_vessel(mesh, folder, name_cor, name_all)"
   ]
  },
  {
   "cell_type": "code",
   "execution_count": null,
   "metadata": {
    "scrolled": true
   },
   "outputs": [],
   "source": [
    "mesh = mesh_liver_2\n",
    "folder = \"/Users/bilyana/Documents/vessel_segmentation/ircad_data/patient_1/all_branches/\"\n",
    "name_cor = folder + \"corr_1.pvd\"\n",
    "name_all = folder + \"all_1.pvd\"\n",
    "amount = 1\n",
    "\n",
    "branch_vessel(mesh, folder, name_cor, name_all, amount)"
   ]
  }
 ],
 "metadata": {
  "kernelspec": {
   "display_name": "fentzo",
   "language": "python",
   "name": "fentzo"
  },
  "language_info": {
   "codemirror_mode": {
    "name": "ipython",
    "version": 3
   },
   "file_extension": ".py",
   "mimetype": "text/x-python",
   "name": "python",
   "nbconvert_exporter": "python",
   "pygments_lexer": "ipython3",
   "version": "3.10.4"
  }
 },
 "nbformat": 4,
 "nbformat_minor": 4
}
